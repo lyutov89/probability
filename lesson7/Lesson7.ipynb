{
 "cells": [
  {
   "cell_type": "markdown",
   "metadata": {},
   "source": [
    "__Задача 1__\n",
    "\n",
    "Дана матрица объект-признак\n",
    "```\n",
    "X = [[ 1.22401313,  2.30868478,  3.03636353,  2.69287214],\n",
    "     [-0.18757272,  1.30337355,  5.12093014,  3.46363202],\n",
    "     [-0.81094525,  1.82463398,  5.79686488,  1.86159445],\n",
    "     [ 0.75129018,  2.67392052,  3.65529809,  1.66746094],\n",
    "     [ 0.00972362,  1.97367255,  2.50594319,  1.69755173],\n",
    "     [-0.62972637,  0.77750764,  2.84124027,  4.54410559],\n",
    "     [ 2.29536229,  1.81206697,  1.95026215,  1.51874636],\n",
    "     [ 0.0920418 ,  2.26971361,  7.47708735,  2.61081203],\n",
    "     [ 2.39252799,  3.17563985,  3.61420599,  5.10773362],\n",
    "     [ 0.54983815,  2.87988651,  1.65752765,  1.59635987]]\n",
    "```\n",
    "и значения целевой переменной\n",
    "```\n",
    "y = [ 9.26193358,  9.700363  ,  8.67214805,  8.74796974,  6.18689108,\n",
    "      7.53312713,  7.57643777, 12.44965478, 14.29010746,  6.68361218]\n",
    "```\n",
    "\n",
    "1. Подберите два признака (из четырёх) так, чтобы уровень линейной зависимости целевой переменной от значений этих признаков был максимальным. Другими словами, модель линейной регрессии на этих признаках должна давать наилучший результат.\n",
    "2. Является ли значимым получившееся уравнение регрессии?\n",
    "\n",
    "__Задача 2__\n",
    "\n",
    "Для проведения A/B-тестирования сайта интернет-магазина были получены следующие данные: страница `A` была посещена 2509 раз, из них 77 закончились совершением покупки, страница `B` была посещена 1465 раз, 60 из них закончились совершением покупки. Является ли значимым отличие конверсии на страницах `A` и `B`?\n",
    "\n",
    "__Задача 3__\n",
    "\n",
    "__Квартет Энскомба__ — популярный в области анализа данных пример наборов данных, у которых практически совпадают все статистические свойства (средние, дисперсии, коэффициенты корреляции, регрессионные линии), однако, существенно отличаются графики. Данный пример призван показать, насколько важна визуализация данных. Датасет представляет собой 4 пары выборок:\n",
    "\n",
    "```\n",
    "{\n",
    "    \"x1\": [10.0, 8.0, 13.0, 9.0, 11.0, 14.0, 6.0, 4.0, 12.0, 7.0, 5.0],\n",
    "    \"y1\": [8.04, 6.95, 7.58, 8.81, 8.33, 9.96, 7.24, 4.26, 10.84, 4.82, 5.68],\n",
    "    \"x2\": [10.0, 8.0, 13.0, 9.0, 11.0, 14.0, 6.0, 4.0, 12.0, 7.0, 5.0],\n",
    "    \"y2\": [9.14, 8.14, 8.74, 8.77, 9.26, 8.1, 6.13, 3.1, 9.13, 7.26, 4.74],\n",
    "    \"x3\": [10.0, 8.0, 13.0, 9.0, 11.0, 14.0, 6.0, 4.0, 12.0, 7.0, 5.0],\n",
    "    \"y3\": [7.46, 6.77, 12.74, 7.11, 7.81, 8.84, 6.08, 5.39, 8.15, 6.42, 5.73],\n",
    "    \"x4\": [8.0, 8.0, 8.0, 8.0, 8.0, 8.0, 8.0, 19.0, 8.0, 8.0, 8.0],\n",
    "    \"y4\": [6.58, 5.76, 7.71, 8.84, 8.47, 7.04, 5.25, 12.5, 5.56, 7.91, 6.89]\n",
    "}\n",
    "```\n",
    "\n",
    "По каждой паре выборок посчитайте:\n",
    "\n",
    "1. выборочное среднее и дисперсию каждой выборки,\n",
    "2. коэффициент корреляции Пирсона и прямую линейной регрессии.\n",
    "\n",
    "Убедившись в том, что они не практически не отличаются, постройте `scatter plot` по каждой паре выборок."
   ]
  },
  {
   "cell_type": "code",
   "execution_count": 24,
   "metadata": {},
   "outputs": [],
   "source": [
    "import numpy as np\n",
    "import pandas as pd\n",
    "import seaborn as sns\n",
    "from matplotlib import pyplot as plt\n",
    "plt.style.use('seaborn-whitegrid')"
   ]
  },
  {
   "cell_type": "code",
   "execution_count": 25,
   "metadata": {},
   "outputs": [],
   "source": [
    "df = {\n",
    "    'x1': [10.0, 8.0, 13.0, 9.0, 11.0, 14.0, 6.0, 4.0, 12.0, 7.0, 5.0],\n",
    "    'y1': [8.04, 6.95, 7.58, 8.81, 8.33, 9.96, 7.24, 4.26, 10.84, 4.82, 5.68],\n",
    "    'x2': [10.0, 8.0, 13.0, 9.0, 11.0, 14.0, 6.0, 4.0, 12.0, 7.0, 5.0],\n",
    "    'y2': [9.14, 8.14, 8.74, 8.77, 9.26, 8.1, 6.13, 3.1, 9.13, 7.26, 4.74],\n",
    "    'x3': [10.0, 8.0, 13.0, 9.0, 11.0, 14.0, 6.0, 4.0, 12.0, 7.0, 5.0],\n",
    "    'y3': [7.46, 6.77, 12.74, 7.11, 7.81, 8.84, 6.08, 5.39, 8.15, 6.42, 5.73],\n",
    "    'x4': [8.0, 8.0, 8.0, 8.0, 8.0, 8.0, 8.0, 19.0, 8.0, 8.0, 8.0],\n",
    "    'y4': [6.58, 5.76, 7.71, 8.84, 8.47, 7.04, 5.25, 12.5, 5.56, 7.91, 6.89]\n",
    "}"
   ]
  },
  {
   "cell_type": "code",
   "execution_count": 26,
   "metadata": {},
   "outputs": [],
   "source": [
    "x1=np.array([10.0, 8.0, 13.0, 9.0, 11.0, 14.0, 6.0, 4.0, 12.0, 7.0, 5.0])\n",
    "y1=np.array([8.04, 6.95, 7.58, 8.81, 8.33, 9.96, 7.24, 4.26, 10.84, 4.82, 5.68])\n",
    "x2=np.array([10.0, 8.0, 13.0, 9.0, 11.0, 14.0, 6.0, 4.0, 12.0, 7.0, 5.0])\n",
    "y2=np.array([9.14, 8.14, 8.74, 8.77, 9.26, 8.1, 6.13, 3.1, 9.13, 7.26, 4.74])\n",
    "x3=np.array([10.0, 8.0, 13.0, 9.0, 11.0, 14.0, 6.0, 4.0, 12.0, 7.0, 5.0])\n",
    "y3=np.array([7.46, 6.77, 12.74, 7.11, 7.81, 8.84, 6.08, 5.39, 8.15, 6.42, 5.73])\n",
    "x4=np.array([8.0, 8.0, 8.0, 8.0, 8.0, 8.0, 8.0, 19.0, 8.0, 8.0, 8.0])\n",
    "y4=np.array([6.58, 5.76, 7.71, 8.84, 8.47, 7.04, 5.25, 12.5, 5.56, 7.91, 6.89])"
   ]
  },
  {
   "cell_type": "code",
   "execution_count": 27,
   "metadata": {},
   "outputs": [
    {
     "data": {
      "text/plain": [
       "(9.0,\n",
       " 7.500909090909093,\n",
       " 9.0,\n",
       " 7.50090909090909,\n",
       " 9.0,\n",
       " 7.5,\n",
       " 9.0,\n",
       " 7.500909090909091)"
      ]
     },
     "execution_count": 27,
     "metadata": {},
     "output_type": "execute_result"
    }
   ],
   "source": [
    "x1.mean(), y1.mean(), x2.mean(), y2.mean(), x3.mean(), y3.mean(), x4.mean(), y4.mean()"
   ]
  },
  {
   "cell_type": "code",
   "execution_count": 28,
   "metadata": {},
   "outputs": [
    {
     "data": {
      "text/plain": [
       "(11.0,\n",
       " 4.127269090909091,\n",
       " 11.0,\n",
       " 4.127629090909091,\n",
       " 11.0,\n",
       " 4.12262,\n",
       " 11.0,\n",
       " 4.123249090909091)"
      ]
     },
     "execution_count": 28,
     "metadata": {},
     "output_type": "execute_result"
    }
   ],
   "source": [
    "x1.var(ddof=1), y1.var(ddof=1), x2.var(ddof=1), y2.var(ddof=1), x3.var(ddof=1), y3.var(ddof=1), x4.var(ddof=1), y4.var(ddof=1)  "
   ]
  },
  {
   "cell_type": "markdown",
   "metadata": {},
   "source": [
    "Комментарий к подзадаче 1: как мы видим, выборки разные, данные разные, но средние значения выборок и их дисперсии совпадают (!!!)"
   ]
  },
  {
   "cell_type": "code",
   "execution_count": 29,
   "metadata": {},
   "outputs": [
    {
     "data": {
      "text/plain": [
       "(array([[1.        , 0.81642052],\n",
       "        [0.81642052, 1.        ]]), array([[1.        , 0.81623651],\n",
       "        [0.81623651, 1.        ]]), array([[1.        , 0.81628674],\n",
       "        [0.81628674, 1.        ]]), array([[1.        , 0.81652144],\n",
       "        [0.81652144, 1.        ]]))"
      ]
     },
     "execution_count": 29,
     "metadata": {},
     "output_type": "execute_result"
    }
   ],
   "source": [
    "np.corrcoef(x1, y1), np.corrcoef(x2, y2), np.corrcoef(x3, y3), np.corrcoef(x4, y4)"
   ]
  },
  {
   "cell_type": "markdown",
   "metadata": {},
   "source": [
    "Корреляции идентичны - мы это наглядно видим из нашей матрицы корелляции. "
   ]
  },
  {
   "cell_type": "code",
   "execution_count": 31,
   "metadata": {},
   "outputs": [
    {
     "data": {
      "text/plain": [
       "(3.0000909090909094, 0.5000909090909093)"
      ]
     },
     "execution_count": 31,
     "metadata": {},
     "output_type": "execute_result"
    }
   ],
   "source": [
    "b1 = np.cov(x1, y1, ddof=1)[0, 1] / np.var(x1, ddof=1)\n",
    "b0 = y1.mean() - b1 * x1.mean()\n",
    "\n",
    "b0, b1"
   ]
  },
  {
   "cell_type": "code",
   "execution_count": 34,
   "metadata": {},
   "outputs": [
    {
     "data": {
      "text/plain": [
       "(3.00090909090909, 0.5)"
      ]
     },
     "execution_count": 34,
     "metadata": {},
     "output_type": "execute_result"
    }
   ],
   "source": [
    "b2 = np.cov(x2, y2, ddof=1)[0, 1] / np.var(x2, ddof=1)\n",
    "b3 = y2.mean() - b2 * x2.mean()\n",
    "\n",
    "b3, b2"
   ]
  },
  {
   "cell_type": "code",
   "execution_count": 38,
   "metadata": {},
   "outputs": [
    {
     "data": {
      "text/plain": [
       "(3.0024545454545457, 0.49972727272727274)"
      ]
     },
     "execution_count": 38,
     "metadata": {},
     "output_type": "execute_result"
    }
   ],
   "source": [
    "b5 = np.cov(x3, y3, ddof=1)[0, 1] / np.var(x3, ddof=1)\n",
    "b4 = y3.mean() - b5 * x3.mean()\n",
    "\n",
    "b4, b5"
   ]
  },
  {
   "cell_type": "code",
   "execution_count": 39,
   "metadata": {},
   "outputs": [
    {
     "data": {
      "text/plain": [
       "(0.49990909090909097, 3.0017272727272726)"
      ]
     },
     "execution_count": 39,
     "metadata": {},
     "output_type": "execute_result"
    }
   ],
   "source": [
    "b6 = np.cov(x4, y4, ddof=1)[0, 1] / np.var(x4, ddof=1)\n",
    "b7 = y4.mean() - b6 * x4.mean()\n",
    "\n",
    "b6, b7"
   ]
  },
  {
   "cell_type": "markdown",
   "metadata": {},
   "source": [
    "Итак, модель линейной регрессии имеет вид:\n",
    "$$y = 3.00 + 0.5 \\cdot x,$$"
   ]
  },
  {
   "cell_type": "markdown",
   "metadata": {},
   "source": [
    "Также мы проверили и установили, что модель линейной регрессии одинакова для всех четырех наборов данных. "
   ]
  },
  {
   "cell_type": "markdown",
   "metadata": {},
   "source": [
    "Теперь построим scatter.plot"
   ]
  },
  {
   "cell_type": "code",
   "execution_count": 49,
   "metadata": {},
   "outputs": [
    {
     "data": {
      "image/png": "[encoded data removed]",
      "text/plain": [
       "<Figure size 1440x432 with 4 Axes>"
      ]
     },
     "metadata": {},
     "output_type": "display_data"
    }
   ],
   "source": [
    "fig, (ax1, ax2, ax3, ax4) = plt.subplots(ncols=4)\n",
    "fig.set_size_inches(20, 6)\n",
    "\n",
    "ax1.scatter(x1, y1)\n",
    "ax1.plot(x1, b0 + b1 * x1, color='red', alpha=0.5)\n",
    "\n",
    "ax2.scatter(x2, y2)\n",
    "ax2.plot(x2, b0 + b1 * x2, color='red', alpha=0.5)\n",
    "\n",
    "ax3.scatter(x3, y3)\n",
    "ax3.plot(x3, b0 + b1 * x3, color='red', alpha=0.5)\n",
    "\n",
    "ax4.scatter(x4, y4)\n",
    "ax4.plot(x4, b0 + b1 * x4, color='red', alpha=0.5)\n",
    "\n",
    "plt.show()"
   ]
  },
  {
   "cell_type": "markdown",
   "metadata": {},
   "source": [
    "Какие выводы мы можем сделать: \n",
    "    - важно видеть и понимать как распределены данные (xtest, ypredict)\n",
    "    - разные данные могут быть описаны одними и теми же зависимостями. Это означает, что линейную регрессию нужно использовать только в том случае, если данные репрезентативно укладываются в линейную зависимость \n",
    "    - также мы можем добавить, что для с увеличением кол-ва данных в массиве мы бы однозначно столкнулись с другими линейными зависимостями. "
   ]
  },
  {
   "cell_type": "markdown",
   "metadata": {},
   "source": [
    "__Задача 2__\n",
    "\n",
    "Для проведения A/B-тестирования сайта интернет-магазина были получены следующие данные: страница `A` была посещена 2509 раз, из них 77 закончились совершением покупки, страница `B` была посещена 1465 раз, 60 из них закончились совершением покупки. Является ли значимым отличие конверсии на страницах `A` и `B`?\n"
   ]
  },
  {
   "cell_type": "code",
   "execution_count": 52,
   "metadata": {},
   "outputs": [
    {
     "data": {
      "text/plain": [
       "(0.03068951773614986, 0.040955631399317405)"
      ]
     },
     "execution_count": 52,
     "metadata": {},
     "output_type": "execute_result"
    }
   ],
   "source": [
    "a = 2509\n",
    "b = 1465 \n",
    "a_deal = 77 \n",
    "b_deal = 60 \n",
    "conv_a = a_deal/a \n",
    "conv_b = b_deal/b\n",
    "\n",
    "conv_a, conv_b"
   ]
  },
  {
   "cell_type": "code",
   "execution_count": 53,
   "metadata": {},
   "outputs": [],
   "source": [
    "pvalue=0.05"
   ]
  },
  {
   "cell_type": "markdown",
   "metadata": {},
   "source": [
    "Будем использовать статистику Фишера, а не нормальное распределение, поскольку объем выборки достаточно высок. "
   ]
  },
  {
   "cell_type": "markdown",
   "metadata": {},
   "source": [
    "1 - была совершена покупка\n",
    "\n",
    "0 - не была совершена покупка. "
   ]
  },
  {
   "cell_type": "code",
   "execution_count": 61,
   "metadata": {},
   "outputs": [
    {
     "data": {
      "text/plain": [
       "array([1, 1, 1, 1, 1, 1, 1, 1, 1, 1, 1, 1, 1, 1, 1, 1, 1, 1, 1, 1, 1, 1,\n",
       "       1, 1, 1, 1, 1, 1, 1, 1, 1, 1, 1, 1, 1, 1, 1, 1, 1, 1, 1, 1, 1, 1,\n",
       "       1, 1, 1, 1, 1, 1, 1, 1, 1, 1, 1, 1, 1, 1, 1, 1, 1, 1, 1, 1, 1, 1,\n",
       "       1, 1, 1, 1, 1, 1, 1, 1, 1, 1, 1], dtype=int8)"
      ]
     },
     "execution_count": 61,
     "metadata": {},
     "output_type": "execute_result"
    }
   ],
   "source": [
    "massiv_a_ones = np.ones(77, dtype=np.int8, order='c')\n",
    "massiv_a_ones"
   ]
  },
  {
   "cell_type": "code",
   "execution_count": 62,
   "metadata": {},
   "outputs": [
    {
     "data": {
      "text/plain": [
       "array([0, 0, 0, ..., 0, 0, 0], dtype=int8)"
      ]
     },
     "execution_count": 62,
     "metadata": {},
     "output_type": "execute_result"
    }
   ],
   "source": [
    "massiv_a_zeroes = np.zeros(2432, dtype=np.int8, order='c')\n",
    "massiv_a_zeroes"
   ]
  },
  {
   "cell_type": "code",
   "execution_count": 66,
   "metadata": {},
   "outputs": [],
   "source": [
    "fin_a=np.concatenate((massiv_a_zeroes, massiv_a_ones), axis=0)"
   ]
  },
  {
   "cell_type": "markdown",
   "metadata": {},
   "source": [
    "Перемешаем элементы массива для большего правдоподобия. "
   ]
  },
  {
   "cell_type": "code",
   "execution_count": 68,
   "metadata": {},
   "outputs": [
    {
     "data": {
      "text/plain": [
       "array([0, 0, 0, ..., 0, 0, 0], dtype=int8)"
      ]
     },
     "execution_count": 68,
     "metadata": {},
     "output_type": "execute_result"
    }
   ],
   "source": [
    "np.random.shuffle(fin_a)\n",
    "fin_a"
   ]
  },
  {
   "cell_type": "markdown",
   "metadata": {},
   "source": [
    "Тоже самое проделаем с элементами массива b. "
   ]
  },
  {
   "cell_type": "code",
   "execution_count": 69,
   "metadata": {},
   "outputs": [
    {
     "data": {
      "text/plain": [
       "array([0, 0, 1, ..., 0, 0, 0], dtype=int8)"
      ]
     },
     "execution_count": 69,
     "metadata": {},
     "output_type": "execute_result"
    }
   ],
   "source": [
    "massiv_b_ones = np.ones(60, dtype=np.int8, order='c')\n",
    "massiv_b_zeroes = np.zeros(1405, dtype=np.int8, order='c')\n",
    "fin_b=np.concatenate((massiv_b_zeroes, massiv_b_ones), axis=0)\n",
    "np.random.shuffle(fin_b)\n",
    "fin_b"
   ]
  },
  {
   "cell_type": "code",
   "execution_count": 71,
   "metadata": {},
   "outputs": [
    {
     "data": {
      "text/plain": [
       "(0.03068951773614986, 0.040955631399317405)"
      ]
     },
     "execution_count": 71,
     "metadata": {},
     "output_type": "execute_result"
    }
   ],
   "source": [
    "a_mean=fin_a.mean()\n",
    "b_mean=fin_b.mean()\n",
    "\n",
    "a_mean, b_mean"
   ]
  },
  {
   "cell_type": "markdown",
   "metadata": {},
   "source": [
    "Как мы видим, конверсии и есть среднее значение страниц a, b"
   ]
  },
  {
   "cell_type": "code",
   "execution_count": 73,
   "metadata": {},
   "outputs": [
    {
     "data": {
      "text/plain": [
       "array([0, 0, 0, ..., 0, 0, 0], dtype=int8)"
      ]
     },
     "execution_count": 73,
     "metadata": {},
     "output_type": "execute_result"
    }
   ],
   "source": [
    "fin = np.concatenate((fin_a, fin_b), axis=0)\n",
    "fin"
   ]
  },
  {
   "cell_type": "code",
   "execution_count": 75,
   "metadata": {},
   "outputs": [
    {
     "data": {
      "text/plain": [
       "0.03447408152994464"
      ]
     },
     "execution_count": 75,
     "metadata": {},
     "output_type": "execute_result"
    }
   ],
   "source": [
    "fin_mean=fin.mean()\n",
    "fin_mean"
   ]
  },
  {
   "cell_type": "code",
   "execution_count": 77,
   "metadata": {},
   "outputs": [
    {
     "data": {
      "text/plain": [
       "3974"
      ]
     },
     "execution_count": 77,
     "metadata": {},
     "output_type": "execute_result"
    }
   ],
   "source": [
    "n=fin.shape[0]\n",
    "n"
   ]
  },
  {
   "cell_type": "code",
   "execution_count": 78,
   "metadata": {},
   "outputs": [
    {
     "data": {
      "text/plain": [
       "0.09748158004016791"
      ]
     },
     "execution_count": 78,
     "metadata": {},
     "output_type": "execute_result"
    }
   ],
   "source": [
    "SS_b = a*(a_mean - fin_mean)**2 + b*(b_mean - fin_mean)**2 \n",
    "SS_b"
   ]
  },
  {
   "cell_type": "code",
   "execution_count": 79,
   "metadata": {},
   "outputs": [
    {
     "data": {
      "text/plain": [
       "132.17956925035742"
      ]
     },
     "execution_count": 79,
     "metadata": {},
     "output_type": "execute_result"
    }
   ],
   "source": [
    "SS_w = ((fin_a - a_mean)**2).sum() + ((fin_b - b_mean)**2).sum() \n",
    "SS_w"
   ]
  },
  {
   "cell_type": "code",
   "execution_count": 80,
   "metadata": {},
   "outputs": [
    {
     "data": {
      "text/plain": [
       "(0.09748158004016791, 0.033277837172798946)"
      ]
     },
     "execution_count": 80,
     "metadata": {},
     "output_type": "execute_result"
    }
   ],
   "source": [
    "k=2 \n",
    "k1=k-1\n",
    "k2=n-k\n",
    "\n",
    "sigma2_b = SS_b / k1\n",
    "sigma2_w = SS_w / k2\n",
    "\n",
    "sigma2_b, sigma2_w"
   ]
  },
  {
   "cell_type": "code",
   "execution_count": 81,
   "metadata": {},
   "outputs": [
    {
     "data": {
      "text/plain": [
       "2.92932438890135"
      ]
     },
     "execution_count": 81,
     "metadata": {},
     "output_type": "execute_result"
    }
   ],
   "source": [
    "F = sigma2_b / sigma2_w\n",
    "F"
   ]
  },
  {
   "cell_type": "code",
   "execution_count": 83,
   "metadata": {},
   "outputs": [
    {
     "data": {
      "text/plain": [
       "3.8438010503414866"
      ]
     },
     "execution_count": 83,
     "metadata": {},
     "output_type": "execute_result"
    }
   ],
   "source": [
    "from scipy import stats\n",
    "alpha = 0.05\n",
    "\n",
    "t = stats.f.ppf(1 - alpha, k1, k2)\n",
    "t"
   ]
  },
  {
   "cell_type": "markdown",
   "metadata": {},
   "source": [
    "Итак, критическая область:\n",
    "$$\\Omega_\\alpha = \\left( 3.84, \\infty \\right)$$\n",
    "\n",
    "Считаем значение статистики:"
   ]
  },
  {
   "cell_type": "markdown",
   "metadata": {},
   "source": [
    "Значение статистики не попало в критическую область, следовательно результаты являются статистически незначимыми. "
   ]
  },
  {
   "cell_type": "markdown",
   "metadata": {},
   "source": [
    "__Задача 1__\n",
    "\n",
    "Дана матрица объект-признак\n",
    "```\n",
    "X = [[ 1.22401313,  2.30868478,  3.03636353,  2.69287214],\n",
    "     [-0.18757272,  1.30337355,  5.12093014,  3.46363202],\n",
    "     [-0.81094525,  1.82463398,  5.79686488,  1.86159445],\n",
    "     [ 0.75129018,  2.67392052,  3.65529809,  1.66746094],\n",
    "     [ 0.00972362,  1.97367255,  2.50594319,  1.69755173],\n",
    "     [-0.62972637,  0.77750764,  2.84124027,  4.54410559],\n",
    "     [ 2.29536229,  1.81206697,  1.95026215,  1.51874636],\n",
    "     [ 0.0920418 ,  2.26971361,  7.47708735,  2.61081203],\n",
    "     [ 2.39252799,  3.17563985,  3.61420599,  5.10773362],\n",
    "     [ 0.54983815,  2.87988651,  1.65752765,  1.59635987]]\n",
    "```\n",
    "и значения целевой переменной\n",
    "```\n",
    "y = [ 9.26193358,  9.700363  ,  8.67214805,  8.74796974,  6.18689108,\n",
    "      7.53312713,  7.57643777, 12.44965478, 14.29010746,  6.68361218]\n",
    "```\n",
    "\n",
    "1. Подберите два признака (из четырёх) так, чтобы уровень линейной зависимости целевой переменной от значений этих признаков был максимальным. Другими словами, модель линейной регрессии на этих признаках должна давать наилучший результат.\n",
    "2. Является ли значимым получившееся уравнение регрессии?"
   ]
  },
  {
   "cell_type": "code",
   "execution_count": 212,
   "metadata": {},
   "outputs": [],
   "source": [
    "from itertools import combinations\n",
    "from pprint import pprint\n",
    "\n",
    "X = [[ 1.22401313,  2.30868478,  3.03636353,  2.69287214],\n",
    "     [-0.18757272,  1.30337355,  5.12093014,  3.46363202],\n",
    "     [-0.81094525,  1.82463398,  5.79686488,  1.86159445],\n",
    "     [ 0.75129018,  2.67392052,  3.65529809,  1.66746094],\n",
    "     [ 0.00972362,  1.97367255,  2.50594319,  1.69755173],\n",
    "     [-0.62972637,  0.77750764,  2.84124027,  4.54410559],\n",
    "     [ 2.29536229,  1.81206697,  1.95026215,  1.51874636],\n",
    "     [ 0.0920418 ,  2.26971361,  7.47708735,  2.61081203],\n",
    "     [ 2.39252799,  3.17563985,  3.61420599,  5.10773362],\n",
    "     [ 0.54983815,  2.87988651,  1.65752765,  1.59635987]]\n",
    "\n",
    "Y = [ 9.26193358,  9.700363  ,  8.67214805,  8.74796974,  6.18689108,\n",
    "      7.53312713,  7.57643777, 12.44965478, 14.29010746,  6.68361218]"
   ]
  },
  {
   "cell_type": "code",
   "execution_count": 222,
   "metadata": {},
   "outputs": [
    {
     "data": {
      "text/plain": [
       "array([[2.30868478],\n",
       "       [1.30337355],\n",
       "       [1.82463398],\n",
       "       [2.67392052],\n",
       "       [1.97367255],\n",
       "       [0.77750764],\n",
       "       [1.81206697],\n",
       "       [2.26971361],\n",
       "       [3.17563985],\n",
       "       [2.87988651]])"
      ]
     },
     "execution_count": 222,
     "metadata": {},
     "output_type": "execute_result"
    }
   ],
   "source": [
    "X=np.array(X)\n",
    "Y=np.array(Y)\n",
    "column_x = np.array(X)\n",
    "column_x[:, 1, None]"
   ]
  },
  {
   "cell_type": "code",
   "execution_count": 223,
   "metadata": {},
   "outputs": [],
   "source": [
    "def sum_of_squares(samples: np.ndarray) -> float:\n",
    "    return ((samples - samples.mean()) ** 2).sum()"
   ]
  },
  {
   "cell_type": "code",
   "execution_count": 224,
   "metadata": {},
   "outputs": [
    {
     "data": {
      "text/plain": [
       "array([[1.],\n",
       "       [1.],\n",
       "       [1.],\n",
       "       [1.],\n",
       "       [1.],\n",
       "       [1.],\n",
       "       [1.],\n",
       "       [1.],\n",
       "       [1.],\n",
       "       [1.]])"
      ]
     },
     "execution_count": 224,
     "metadata": {},
     "output_type": "execute_result"
    }
   ],
   "source": [
    "ones = np.ones((10,1))\n",
    "ones"
   ]
  },
  {
   "cell_type": "code",
   "execution_count": 225,
   "metadata": {},
   "outputs": [
    {
     "data": {
      "text/plain": [
       "[0, 1, 2, 3]"
      ]
     },
     "execution_count": 225,
     "metadata": {},
     "output_type": "execute_result"
    }
   ],
   "source": [
    "cloumn = [i for i in range(np.array(X).shape[1])]\n",
    "column"
   ]
  },
  {
   "cell_type": "code",
   "execution_count": 226,
   "metadata": {},
   "outputs": [
    {
     "name": "stdout",
     "output_type": "stream",
     "text": [
      "[{'R': 0.18113594742585204, 'column_1': 0, 'column_2': 1},\n",
      " {'R': 0.7634246238793152, 'column_1': 0, 'column_2': 2},\n",
      " {'R': 0.45329667831440745, 'column_1': 0, 'column_2': 3},\n",
      " {'R': 0.547948273403901, 'column_1': 1, 'column_2': 2},\n",
      " {'R': 0.6062055761129932, 'column_1': 1, 'column_2': 3},\n",
      " {'R': 0.6224419876505323, 'column_1': 2, 'column_2': 3}]\n"
     ]
    }
   ],
   "source": [
    "fin_res = []\n",
    "for i in combinations(column, 2):\n",
    "    res = {}\n",
    "    x_hub = np.hstack((ones, column_x[:, i[0], None], column_x[:, i[1], None]))\n",
    "    XTX = x_hub.T.dot(x_hub)\n",
    "    XTX_inv = np.linalg.inv(XTX)\n",
    "\n",
    "    b = XTX_inv.dot(x_hub.T).dot(Y)\n",
    "    z = x_hub.dot(b)\n",
    "    e = Y - z\n",
    "\n",
    "    R = 1 - sum_of_squares(e) / sum_of_squares(np.array(Y))\n",
    "    res = {'column_1': i[0], 'column_2': i[1], 'R': R}\n",
    "    fin_res.append(res)\n",
    "\n",
    "pprint(fin_res)"
   ]
  },
  {
   "cell_type": "markdown",
   "metadata": {},
   "source": [
    "Наилучшее сочетание - это сочетание второго и третьего столбца. Проверим на значимость нашу статистику. Возьмем F-тест Фишера. "
   ]
  },
  {
   "cell_type": "code",
   "execution_count": 232,
   "metadata": {},
   "outputs": [
    {
     "data": {
      "text/plain": [
       "(2, 7)"
      ]
     },
     "execution_count": 232,
     "metadata": {},
     "output_type": "execute_result"
    }
   ],
   "source": [
    "R1 = 0.7634246238793152\n",
    "n=10   #число наблюдений\n",
    "m=2    #число факторов(признаков)\n",
    "\n",
    "k1 = m\n",
    "k2 = n - m - 1\n",
    "\n",
    "k1, k2"
   ]
  },
  {
   "cell_type": "code",
   "execution_count": 233,
   "metadata": {},
   "outputs": [],
   "source": [
    "from scipy import stats"
   ]
  },
  {
   "cell_type": "code",
   "execution_count": 234,
   "metadata": {},
   "outputs": [
    {
     "data": {
      "text/plain": [
       "4.73741412777588"
      ]
     },
     "execution_count": 234,
     "metadata": {},
     "output_type": "execute_result"
    }
   ],
   "source": [
    "alpha = 0.05\n",
    "\n",
    "t = stats.f.ppf(1 - alpha, k1, k2)\n",
    "t"
   ]
  },
  {
   "cell_type": "markdown",
   "metadata": {},
   "source": [
    "Итак, критическая область:\n",
    "$$\\Omega_\\alpha = \\left( 4.73, \\infty \\right)$$\n",
    "\n",
    "Считаем значение статистики:"
   ]
  },
  {
   "cell_type": "code",
   "execution_count": 235,
   "metadata": {},
   "outputs": [
    {
     "data": {
      "text/plain": [
       "11.29443912292265"
      ]
     },
     "execution_count": 235,
     "metadata": {},
     "output_type": "execute_result"
    }
   ],
   "source": [
    "F = (R1 / k1) / ((1 - R1) / k2)\n",
    "F"
   ]
  },
  {
   "cell_type": "markdown",
   "metadata": {},
   "source": [
    "Статистика попала в критическую область, уравнение регрессии признаётся значимым."
   ]
  },
  {
   "cell_type": "code",
   "execution_count": null,
   "metadata": {},
   "outputs": [],
   "source": []
  }
 ],
 "metadata": {
  "kernelspec": {
   "display_name": "Python 3",
   "language": "python",
   "name": "python3"
  },
  "language_info": {
   "codemirror_mode": {
    "name": "ipython",
    "version": 3
   },
   "file_extension": ".py",
   "mimetype": "text/x-python",
   "name": "python",
   "nbconvert_exporter": "python",
   "pygments_lexer": "ipython3",
   "version": "3.7.4"
  }
 },
 "nbformat": 4,
 "nbformat_minor": 2
}
