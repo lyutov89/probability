{
 "cells": [
  {
   "cell_type": "code",
   "execution_count": 7,
   "metadata": {},
   "outputs": [],
   "source": [
    "import numpy as np\n",
    "from math import exp, factorial\n",
    "from scipy.stats import binom"
   ]
  },
  {
   "cell_type": "markdown",
   "metadata": {},
   "source": [
    "__Задача 2__\n",
    "\n",
    "Пользователь получает в среднем 10 писем со спамом на свой почтовый ящик за сутки. Найти число `N`, такое, что с вероятностью 0.95 пользователь получит не более `N` писем со спамом за текущий день."
   ]
  },
  {
   "cell_type": "markdown",
   "metadata": {},
   "source": [
    "$$Решение$$"
   ]
  },
  {
   "cell_type": "markdown",
   "metadata": {},
   "source": [
    "1) Ищем квантиль. По определению:  "
   ]
  },
  {
   "cell_type": "markdown",
   "metadata": {},
   "source": [
    "Кванти́ль в математической статистике — значение, которое заданная случайная величина не превышает с фиксированной вероятностью. "
   ]
  },
  {
   "cell_type": "markdown",
   "metadata": {},
   "source": [
    "В документации scipy на функцию Пуассона удалось найти: "
   ]
  },
  {
   "cell_type": "markdown",
   "metadata": {},
   "source": [
    "https://docs.scipy.org/doc/scipy/reference/generated/scipy.stats.poisson.html"
   ]
  },
  {
   "cell_type": "markdown",
   "metadata": {},
   "source": [
    "В легенде это будет ppf выражение poisson (в самом низу по ссылке). "
   ]
  },
  {
   "cell_type": "markdown",
   "metadata": {},
   "source": [
    "Но решение станет достаточно легким. Давайте попробуем обойтись без этого. "
   ]
  },
  {
   "cell_type": "markdown",
   "metadata": {},
   "source": [
    "2) По условию нужно перебрать N испытаний и найти такое N, при котором n=0.95, параметра а = 10. Остановиться нужно, когда достигнем вероятности выше 0.95. Для этого используем цикл c while:  "
   ]
  },
  {
   "cell_type": "code",
   "execution_count": 8,
   "metadata": {},
   "outputs": [
    {
     "name": "stdout",
     "output_type": "stream",
     "text": [
      "11 0.6967761463031068\n",
      "12 0.7915564763948745\n",
      "13 0.8644644226193111\n",
      "14 0.9165415270653373\n",
      "15 0.9512595966960213\n",
      "N =  15\n"
     ]
    }
   ],
   "source": [
    "lam = 10\n",
    "a = 10\n",
    "prob = 0\n",
    "while prob < 0.95:\n",
    "    prob = 0\n",
    "    a += 1    \n",
    "    prob = np.array([exp(-lam) * lam**x / factorial(x) for x in range(a + 1)]).sum()\n",
    "    print(a, prob)\n",
    "print('N = ', a)"
   ]
  },
  {
   "cell_type": "markdown",
   "metadata": {},
   "source": [
    "__Задача 1__\n",
    "\n",
    "Контрольная работа состоит из пяти вопросов. На каждый вопрос приведено четыре варианта ответа, один из которых правильный. Составьте закон распределения числа правильных ответов при простом угадывании. Найдите `M(X)`, `D(X)`."
   ]
  },
  {
   "cell_type": "markdown",
   "metadata": {},
   "source": [
    "$$Решение$$"
   ]
  },
  {
   "cell_type": "markdown",
   "metadata": {},
   "source": [
    "Здесь все просто. Распишем закон распределения Бернулли: "
   ]
  },
  {
   "cell_type": "markdown",
   "metadata": {},
   "source": [
    "Биномиальный закон распределения описывается __формулой Бернулли__:\n",
    "$$P(X = k) = C_n^k p^k (1 - p)^{n - k}$$"
   ]
  },
  {
   "cell_type": "markdown",
   "metadata": {},
   "source": [
    "Математическое ожидание и дисперсию для биномиально распределённой дискретной величины можно вычислить по формулам:\n",
    "$$M(X) = np, \\: D(X) = np(1 - p).$$\n"
   ]
  },
  {
   "cell_type": "markdown",
   "metadata": {},
   "source": [
    "Число испытаний равно числу вопросов. Их у нас по условию 5. Вероятность решить наугад равна 1/4"
   ]
  },
  {
   "cell_type": "code",
   "execution_count": 9,
   "metadata": {},
   "outputs": [],
   "source": [
    "n=5\n",
    "p=0.25"
   ]
  },
  {
   "cell_type": "code",
   "execution_count": 10,
   "metadata": {},
   "outputs": [
    {
     "name": "stdout",
     "output_type": "stream",
     "text": [
      "Закон распределения: [(0, 0.2373), (1, 0.39551), (2, 0.26367), (3, 0.08789), (4, 0.01465), (5, 0.00098)]\n",
      "M(X) =  1.25\n",
      "D(X) =  0.9375\n"
     ]
    }
   ],
   "source": [
    "prob_law = [(xi, round(binom.pmf(xi, n, p), 5)) for xi in range(n+1)]\n",
    "print('Закон распределения:', prob_law)\n",
    "print('M(X) = ', binom.mean(n, p))\n",
    "print('D(X) = ', binom.var(n, p))"
   ]
  },
  {
   "cell_type": "markdown",
   "metadata": {},
   "source": [
    "__Задача 3__\n",
    "\n",
    "Производятся выстрелы по мишени. Вероятность попадания в мишень при одном выстреле равна 0.01. Сколько выстрелов нужно сделать чтобы быть уверенным с вероятностью 0.9, что хотя бы 6 раз будет совершено попадание?\n",
    "\n",
    "_Подсказка_. 1) \"Вероятность попасть `k` раз при `n` выстрелах\" - на какое распределение это похоже? 2) А если нам нужна вероятность `P(X >= k)`, а не `P(X = k)`? 3) Здесь предстоит немножко покодить."
   ]
  },
  {
   "cell_type": "markdown",
   "metadata": {},
   "source": [
    "$$Решение$$"
   ]
  },
  {
   "cell_type": "markdown",
   "metadata": {},
   "source": [
    "По первой подсказке: здесь точно используется биномиальный закон распределения Ньютона"
   ]
  },
  {
   "cell_type": "markdown",
   "metadata": {},
   "source": [
    "По второй подсказке: речь идет о кумулятивной функции распределения. "
   ]
  },
  {
   "cell_type": "markdown",
   "metadata": {},
   "source": [
    "https://ru.qwe.wiki/wiki/Cumulative_distribution_function"
   ]
  },
  {
   "cell_type": "markdown",
   "metadata": {},
   "source": [
    "Что же, подсказка вышла боком. Рассмотрев библиотеку, мы можем обнаружить binom.cdf, который позволяет реализовать все необходимые вычисления. P(x>6)=0.9. Следовательно, 1 - P(x<6) = 0.1"
   ]
  },
  {
   "cell_type": "code",
   "execution_count": 13,
   "metadata": {},
   "outputs": [
    {
     "name": "stdout",
     "output_type": "stream",
     "text": [
      "Число выстрелов - 1051\n"
     ]
    }
   ],
   "source": [
    "#Начнем отчет с 100 выстрелов в нашем цикле\n",
    "n = 100\n",
    "while binom.cdf(6, n, 0.01) > 0.1: n += 1\n",
    "print(f'Число необходимых выстрелов - {n}')"
   ]
  },
  {
   "cell_type": "markdown",
   "metadata": {},
   "source": [
    "Комментарий: никак не могу поставить библиотеку comb в math. Python постоянно выдает ошибку. Штука ведь полезная. Что делать? "
   ]
  },
  {
   "cell_type": "markdown",
   "metadata": {},
   "source": [
    "https://www.geeksforgeeks.org/python-math-comb-method/"
   ]
  },
  {
   "cell_type": "code",
   "execution_count": null,
   "metadata": {},
   "outputs": [],
   "source": []
  }
 ],
 "metadata": {
  "kernelspec": {
   "display_name": "Python 3",
   "language": "python",
   "name": "python3"
  },
  "language_info": {
   "codemirror_mode": {
    "name": "ipython",
    "version": 3
   },
   "file_extension": ".py",
   "mimetype": "text/x-python",
   "name": "python",
   "nbconvert_exporter": "python",
   "pygments_lexer": "ipython3",
   "version": "3.7.4"
  }
 },
 "nbformat": 4,
 "nbformat_minor": 2
}
