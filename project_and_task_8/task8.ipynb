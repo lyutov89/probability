{
 "cells": [
  {
   "cell_type": "markdown",
   "metadata": {},
   "source": [
    "__Задача 1__\n",
    "\n",
    "Объясняемая переменная `y` зависит от двух категориальных факторов `A` и `B`, причём фактор `A` имеет 3 уровня, а фактор `B` - 4 уровня. Результаты наблюдений приведены в таблице:\n",
    "\n",
    "```\n",
    "y = [[2.68, 3.29, 2.88, 4.45],\n",
    "     [4.12, 4.96, 5.09, 5.22],\n",
    "     [5.52, 4.50, 5.42, 5.29]]\n",
    "```\n",
    "\n",
    "\n",
    "С помощью двухфакторного дисперсионного анализа проверьте влияние каждого из факторов на переменную `y`."
   ]
  },
  {
   "cell_type": "code",
   "execution_count": 64,
   "metadata": {},
   "outputs": [],
   "source": [
    "import numpy as np\n",
    "\n",
    "y = [[2.68, 3.29, 2.88, 4.45],\n",
    "     [4.12, 4.96, 5.09, 5.22],\n",
    "     [5.52, 4.50, 5.42, 5.29]]"
   ]
  },
  {
   "cell_type": "code",
   "execution_count": 65,
   "metadata": {},
   "outputs": [],
   "source": [
    "y=np.array(y)"
   ]
  },
  {
   "cell_type": "markdown",
   "metadata": {},
   "source": [
    "Нулевые гипотезы:\n",
    "$$H_{0a}: \\:\\: \\overline{Y_{1 \\ast}} = \\dots = \\overline{Y_{m \\ast}}, \\:\\:\n",
    "H_{0b}: \\:\\: \\overline{Y_{\\ast 1}} = \\dots = \\overline{Y_{\\ast k}}$$"
   ]
  },
  {
   "cell_type": "code",
   "execution_count": 66,
   "metadata": {},
   "outputs": [
    {
     "data": {
      "text/plain": [
       "array([3.325 , 4.8475, 5.1825])"
      ]
     },
     "execution_count": 66,
     "metadata": {},
     "output_type": "execute_result"
    }
   ],
   "source": [
    "y_a_mean = np.array([y[0,:].mean(), y[1,:].mean(), y[2,:].mean()])\n",
    "y_a_mean"
   ]
  },
  {
   "cell_type": "markdown",
   "metadata": {},
   "source": [
    "Фактор А имеет 3 уровня. Следовательно, m=3. Фактор B имеет 4 уровня. Следовательно k=4. "
   ]
  },
  {
   "cell_type": "code",
   "execution_count": 67,
   "metadata": {},
   "outputs": [
    {
     "data": {
      "text/plain": [
       "4.451666666666666"
      ]
     },
     "execution_count": 67,
     "metadata": {},
     "output_type": "execute_result"
    }
   ],
   "source": [
    "m=3\n",
    "k=4\n",
    "y.mean()"
   ]
  },
  {
   "cell_type": "code",
   "execution_count": 68,
   "metadata": {},
   "outputs": [
    {
     "data": {
      "text/plain": [
       "array([4.10666667, 4.25      , 4.46333333, 4.98666667])"
      ]
     },
     "execution_count": 68,
     "metadata": {},
     "output_type": "execute_result"
    }
   ],
   "source": [
    "y_b_mean=np.array([y[:,0].mean(), y[:,1].mean(), y[:,2].mean(), y[:,3].mean()])\n",
    "y_b_mean"
   ]
  },
  {
   "cell_type": "markdown",
   "metadata": {},
   "source": [
    "Для вычисления значений статистик нам вновь понадобятся оценки дисперсий. Они вычисляются похожим образом. Суммы квадратов отклонений:\n",
    "$$SS_a = k \\cdot \\displaystyle\\sum_{i=1}^m \\left( \\overline{Y_{i \\ast}} - \\overline{Y} \\right)^2, \\:\\:\n",
    "SS_b = m \\cdot \\displaystyle\\sum_{j=1}^k \\left( \\overline{Y_{\\ast j}} - \\overline{Y} \\right)^2, \\:\\:\n",
    "SS_w = \\displaystyle\\sum_{i=1}^m \\displaystyle\\sum_{j=1}^k \\left( y_{ij} - \\overline{Y_{i \\ast}} - \\overline{Y_{\\ast j}} + \\overline{Y} \\right)^2$$"
   ]
  },
  {
   "cell_type": "code",
   "execution_count": 69,
   "metadata": {},
   "outputs": [
    {
     "data": {
      "text/plain": [
       "5.880537499999999"
      ]
     },
     "execution_count": 69,
     "metadata": {},
     "output_type": "execute_result"
    }
   ],
   "source": [
    "SS_a = (((y_a_mean - y.mean())**2).sum())*m\n",
    "SS_a"
   ]
  },
  {
   "cell_type": "code",
   "execution_count": 70,
   "metadata": {},
   "outputs": [
    {
     "data": {
      "text/plain": [
       "1.7842222222222253"
      ]
     },
     "execution_count": 70,
     "metadata": {},
     "output_type": "execute_result"
    }
   ],
   "source": [
    "SS_b = (((y_b_mean - y.mean())**2).sum())*k\n",
    "SS_b"
   ]
  },
  {
   "cell_type": "code",
   "execution_count": 71,
   "metadata": {},
   "outputs": [
    {
     "data": {
      "text/plain": [
       "3.9073722222222202"
      ]
     },
     "execution_count": 71,
     "metadata": {},
     "output_type": "execute_result"
    }
   ],
   "source": [
    "SS_w = 0\n",
    "\n",
    "for i in range(y.shape[0]):\n",
    "    y_a_mean = y[i].mean()\n",
    "    for j in range(y.shape[1]):\n",
    "        SS_w += ((y[i,j] - y_a_mean - y[:,i].mean() + y.mean()))**2\n",
    "    \n",
    "SS_w"
   ]
  },
  {
   "cell_type": "code",
   "execution_count": 72,
   "metadata": {},
   "outputs": [
    {
     "data": {
      "text/plain": [
       "(2.9402687499999995, 0.5947407407407418, 0.6512287037037033)"
      ]
     },
     "execution_count": 72,
     "metadata": {},
     "output_type": "execute_result"
    }
   ],
   "source": [
    "sigma_a = SS_a/(m-1)\n",
    "sigma_b = SS_b/(k-1)\n",
    "sigma_w = SS_w/((k-1)*(m-1))\n",
    "\n",
    "sigma_a, sigma_b, sigma_w"
   ]
  },
  {
   "cell_type": "code",
   "execution_count": 73,
   "metadata": {},
   "outputs": [
    {
     "data": {
      "text/plain": [
       "(1.5049852344641972, 0.45662970424852267)"
      ]
     },
     "execution_count": 73,
     "metadata": {},
     "output_type": "execute_result"
    }
   ],
   "source": [
    "alpha=0.05\n",
    "\n",
    "Fa=SS_a/SS_w\n",
    "Fb=SS_b/SS_w\n",
    "\n",
    "Fa, Fb"
   ]
  },
  {
   "cell_type": "code",
   "execution_count": 74,
   "metadata": {},
   "outputs": [
    {
     "data": {
      "text/plain": [
       "3.8852938346523933"
      ]
     },
     "execution_count": 74,
     "metadata": {},
     "output_type": "execute_result"
    }
   ],
   "source": [
    "from scipy import stats\n",
    "t1 = stats.f.ppf(1 - alpha, y.shape[0]-1, 12)\n",
    "t1"
   ]
  },
  {
   "cell_type": "markdown",
   "metadata": {},
   "source": [
    "Fa не вошло в критическую область, следовательно нулевая гипотеза не принимается. "
   ]
  },
  {
   "cell_type": "code",
   "execution_count": 75,
   "metadata": {},
   "outputs": [
    {
     "data": {
      "text/plain": [
       "3.490294819497605"
      ]
     },
     "execution_count": 75,
     "metadata": {},
     "output_type": "execute_result"
    }
   ],
   "source": [
    "t2 = stats.f.ppf(1 - alpha, y.shape[1]-1, 12)\n",
    "t2"
   ]
  },
  {
   "cell_type": "markdown",
   "metadata": {},
   "source": [
    "Fb также не вошло в критическую область, следовательно нулевая гипотеза не принимается. "
   ]
  },
  {
   "cell_type": "code",
   "execution_count": null,
   "metadata": {},
   "outputs": [],
   "source": []
  }
 ],
 "metadata": {
  "kernelspec": {
   "display_name": "Python 3",
   "language": "python",
   "name": "python3"
  },
  "language_info": {
   "codemirror_mode": {
    "name": "ipython",
    "version": 3
   },
   "file_extension": ".py",
   "mimetype": "text/x-python",
   "name": "python",
   "nbconvert_exporter": "python",
   "pygments_lexer": "ipython3",
   "version": "3.7.4"
  }
 },
 "nbformat": 4,
 "nbformat_minor": 2
}
